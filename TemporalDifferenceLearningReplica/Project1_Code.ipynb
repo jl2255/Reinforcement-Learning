{
 "cells": [
  {
   "cell_type": "code",
   "execution_count": 1,
   "metadata": {
    "collapsed": true
   },
   "outputs": [],
   "source": [
    "import random\n",
    "import numpy as np\n",
    "import math\n",
    "from matplotlib import pyplot as plt  \n",
    "import pandas as pd\n",
    "%matplotlib inline"
   ]
  },
  {
   "cell_type": "code",
   "execution_count": 2,
   "metadata": {
    "collapsed": true
   },
   "outputs": [],
   "source": [
    "# bounded random walk\n",
    "def create_training_list():\n",
    "    training_list = []\n",
    "    for i in range(10): \n",
    "        training_seq = [np.array([0,0,1,0,0])]\n",
    "        current_state = 0\n",
    "        while abs(current_state) != 3:\n",
    "            direction = random.choice([\"left\", \"right\"])\n",
    "            if direction == \"left\":\n",
    "                current_state = current_state - 1\n",
    "            else:\n",
    "                current_state = current_state + 1\n",
    "            s = np.array([0,0,0,0,0])\n",
    "            if current_state == 3:\n",
    "                s = np.array([1,1,1,1,1])\n",
    "            elif current_state == -3:\n",
    "                s = np.array([0,0,0,0,0])\n",
    "            else: s[current_state + 2] = 1 \n",
    "            training_seq.append(s)\n",
    "        training_list.append(training_seq) \n",
    "    return training_list\n",
    "\n",
    "def get_delta_w(training_seq, w, alpha, lamda):       \n",
    "    delta_w = np.array([0,0,0,0,0])\n",
    "    sum_value = np.array([0,0,0,0,0])\n",
    "    for t in range(len(training_seq)-1):\n",
    "        sum_value = training_seq[t] + lamda*(sum_value)\n",
    "        if t < len(training_seq)-2:\n",
    "            delta_w = delta_w + alpha*(np.dot(training_seq[t+1],w) - np.dot(training_seq[t],w))*sum_value\n",
    "            #print(training_seq[i+1])\n",
    "        else:\n",
    "            delta_w = delta_w + alpha*(training_seq[t+1][0] - np.dot(training_seq[t],w))*sum_value            \n",
    "    return delta_w\n",
    "\n",
    "def e1_get_RMSE(training_list, alpha, lamda):\n",
    "    w = np.array([0.5,0.5,0.5,0.5,0.5])\n",
    "    iterations = 0\n",
    "    w_change = 1\n",
    "    while w_change > 0.0001:\n",
    "        total_delta_w = np.array([0,0,0,0,0])\n",
    "        for training_seq in training_list:\n",
    "            delta_w = get_delta_w(training_seq, w, alpha, lamda)\n",
    "            iterations = iterations + 1\n",
    "            total_delta_w = total_delta_w + delta_w\n",
    "        w_change = max(abs(total_delta_w))\n",
    "        w = w + total_delta_w\n",
    "    #print iterations\n",
    "    RMSE = math.sqrt(sum((w-true_w)*(w-true_w))/5)\n",
    "    return RMSE\n",
    "\n",
    "def e2_get_RMSE(training_list, alpha, lamda):\n",
    "    w = np.array([0.5,0.5,0.5,0.5,0.5])\n",
    "    for training_seq in training_list:\n",
    "        delta_w = get_delta_w(training_seq, w, alpha, lamda)\n",
    "        w = w + delta_w\n",
    "    RMSE = math.sqrt(sum((w-true_w)*(w-true_w))/5)\n",
    "    return RMSE"
   ]
  },
  {
   "cell_type": "code",
   "execution_count": 3,
   "metadata": {
    "collapsed": true
   },
   "outputs": [],
   "source": [
    "#Create 100 training sets\n",
    "all_training = []\n",
    "for i in range(200):\n",
    "    training_list = create_training_list()\n",
    "    all_training.append(training_list)"
   ]
  },
  {
   "cell_type": "code",
   "execution_count": 4,
   "metadata": {
    "collapsed": false
   },
   "outputs": [
    {
     "data": {
      "text/plain": [
       "<matplotlib.text.Text at 0x110130710>"
      ]
     },
     "execution_count": 4,
     "metadata": {},
     "output_type": "execute_result"
    },
    {
     "data": {
      "image/png": "[encoded data removed]",
      "text/plain": [
       "<matplotlib.figure.Figure at 0x109757e90>"
      ]
     },
     "metadata": {},
     "output_type": "display_data"
    }
   ],
   "source": [
    "# Experiment 1\n",
    "true_w = np.array([1.0/6.0,2.0/6.0,3.0/6.0,4.0/6.0,5.0/6.0])\n",
    "total_RMSE_0 = 0\n",
    "total_RMSE_01 = 0\n",
    "total_RMSE_03 = 0\n",
    "total_RMSE_05 = 0\n",
    "total_RMSE_07 = 0\n",
    "total_RMSE_09 = 0\n",
    "total_RMSE_1 = 0\n",
    "\n",
    "for training_list in all_training[0:100]:    \n",
    "    total_RMSE_0 = total_RMSE_0 + e1_get_RMSE(training_list, 0.01, 0)\n",
    "    total_RMSE_01 = total_RMSE_01 + e1_get_RMSE(training_list, 0.01, 0.1)\n",
    "    total_RMSE_03 = total_RMSE_03 + e1_get_RMSE(training_list, 0.01, 0.3)\n",
    "    total_RMSE_05 = total_RMSE_05 + e1_get_RMSE(training_list, 0.01, 0.5)\n",
    "    total_RMSE_07 = total_RMSE_07 + e1_get_RMSE(training_list, 0.01, 0.7)\n",
    "    total_RMSE_09 = total_RMSE_09 + e1_get_RMSE(training_list, 0.01, 0.9)\n",
    "    total_RMSE_1 = total_RMSE_1 + e1_get_RMSE(training_list, 0.01, 1)\n",
    "\n",
    "RMSE_0 = total_RMSE_0/100\n",
    "RMSE_01 = total_RMSE_01/100\n",
    "RMSE_03 = total_RMSE_03/100\n",
    "RMSE_05 = total_RMSE_05/100\n",
    "RMSE_07 = total_RMSE_07/100\n",
    "RMSE_09 = total_RMSE_09/100\n",
    "RMSE_1 = total_RMSE_1/100\n",
    "\n",
    "Error = [RMSE_0, RMSE_01, RMSE_03, RMSE_05, RMSE_07, RMSE_09, RMSE_1]\n",
    "lamda = [0,0.1,0.3,0.5,0.7,0.9,1] \n",
    "\n",
    "plt.plot(lamda, Error, '.-')\n",
    "plt.xlabel('lamda')\n",
    "plt.ylabel('Error')"
   ]
  },
  {
   "cell_type": "code",
   "execution_count": 5,
   "metadata": {
    "collapsed": false
   },
   "outputs": [
    {
     "data": {
      "text/plain": [
       "<matplotlib.text.Text at 0x113733910>"
      ]
     },
     "execution_count": 5,
     "metadata": {},
     "output_type": "execute_result"
    },
    {
     "data": {
      "image/png": "[encoded data removed]",
      "text/plain": [
       "<matplotlib.figure.Figure at 0x10fd0ebd0>"
      ]
     },
     "metadata": {},
     "output_type": "display_data"
    }
   ],
   "source": [
    "# Experiment 2\n",
    "true_w = np.array([1.0/6.0,2.0/6.0,3.0/6.0,4.0/6.0,5.0/6.0])\n",
    "    \n",
    "all_RMSE = []\n",
    "alpha_list = []\n",
    "lamda_list = []\n",
    "\n",
    "for lamda in [0, 0.3, 0.8]:\n",
    "    RMSE = []\n",
    "    for alpha in [0,0.05,0.1,0.15,0.2,0.25,0.3,0.35,0.4,0.45,0.5,0.55,0.6]:\n",
    "        total_RMSE = 0\n",
    "        total = 0\n",
    "        n = 0\n",
    "        for training_list in all_training:\n",
    "            current_RMSE = e2_get_RMSE(training_list, alpha, lamda)\n",
    "            total = total + 1\n",
    "            #print current_RMSE\n",
    "            if current_RMSE < 2 and n < 100:\n",
    "                total_RMSE = total_RMSE + current_RMSE\n",
    "                n = n+1\n",
    "            if n == 100: \n",
    "                #print total\n",
    "                break\n",
    "        RMSE.append(total_RMSE/n)\n",
    "    all_RMSE.append(RMSE)\n",
    "\n",
    "Alpha = [0,0.05,0.1,0.15,0.2,0.25,0.3,0.35,0.4,0.45,0.5,0.55,0.6]\n",
    "RMSE_0 = all_RMSE[0]\n",
    "RMSE_03 = all_RMSE[1]\n",
    "RMSE_08 = all_RMSE[2]\n",
    "    \n",
    "RMSE_1 = []\n",
    "for alpha in [0,0.05,0.1,0.15,0.2,0.25,0.3,0.35,0.4]:\n",
    "    total_RMSE = 0\n",
    "    n = 0\n",
    "    total = 0\n",
    "    for training_list in all_training:\n",
    "        current_RMSE = e2_get_RMSE(training_list, alpha, 1)\n",
    "        total = total + 1\n",
    "            #print current_RMSE\n",
    "        if current_RMSE < 2 and n < 100:\n",
    "            total_RMSE = total_RMSE + current_RMSE\n",
    "            n = n+1\n",
    "        if n == 100: \n",
    "                #print total\n",
    "                break\n",
    "    RMSE_1.append(total_RMSE/n) \n",
    "    #print n\n",
    "Alpha_1 = [0,0.05,0.1,0.15,0.2,0.25,0.3,0.35,0.4]\n",
    "\n",
    "plt.plot(Alpha,RMSE_0,\".-\",label=\"lamda = 0\")  \n",
    "plt.plot(Alpha,RMSE_03,\".-\",label=\"lamda = 0.3\") \n",
    "plt.plot(Alpha,RMSE_08,\".-\",label=\"lamda = 0.8\")\n",
    "plt.plot(Alpha_1,RMSE_1,\".-\",label=\"lamda = 1\") \n",
    "plt.legend()\n",
    "plt.xlabel('alpha')\n",
    "plt.ylabel('Error')"
   ]
  },
  {
   "cell_type": "code",
   "execution_count": 6,
   "metadata": {
    "collapsed": false
   },
   "outputs": [
    {
     "data": {
      "text/plain": [
       "<matplotlib.text.Text at 0x10fd10fd0>"
      ]
     },
     "execution_count": 6,
     "metadata": {},
     "output_type": "execute_result"
    },
    {
     "data": {
      "image/png": "[encoded data removed]",
      "text/plain": [
       "<matplotlib.figure.Figure at 0x1134a00d0>"
      ]
     },
     "metadata": {},
     "output_type": "display_data"
    }
   ],
   "source": [
    "#Experiment 3\n",
    "true_w = np.array([1.0/6.0,2.0/6.0,3.0/6.0,4.0/6.0,5.0/6.0])\n",
    "\n",
    "best_alpha_list = []\n",
    "for lamda in [0, 0.1, 0.2, 0.3, 0.4, 0.5, 0.6, 0.7, 0.8, 0.9, 1]:\n",
    "    best_alpha = 0\n",
    "    best_RMSE = 100\n",
    "    for alpha in [0,0.05,0.1,0.15,0.2,0.25,0.3,0.35,0.4]:\n",
    "        total_RMSE = 0\n",
    "        n = 0\n",
    "        for training_list in all_training:\n",
    "            current_RMSE = e2_get_RMSE(training_list, alpha, lamda)\n",
    "            #print current_RMSE\n",
    "            if current_RMSE < 2 and n < 100:\n",
    "                total_RMSE = total_RMSE + current_RMSE\n",
    "                n = n+1\n",
    "        if (total_RMSE/n) < best_RMSE:\n",
    "            best_RMSE = total_RMSE/n\n",
    "            best_alpha = alpha\n",
    "    best_alpha_list.append(best_alpha)\n",
    "   \n",
    "lamda_list = [0, 0.1, 0.2, 0.3, 0.4, 0.5, 0.6, 0.7, 0.8, 0.9, 1]\n",
    "best_RMSE_list = []\n",
    "for i in range(11):\n",
    "    total_RMSE = 0\n",
    "    n = 0\n",
    "    for training_list in all_training:\n",
    "        current_RMSE = e2_get_RMSE(training_list, best_alpha_list[i], lamda_list[i])\n",
    "        #print current_RMSE\n",
    "        if current_RMSE < 2 and n < 100:\n",
    "            total_RMSE = total_RMSE + current_RMSE\n",
    "            n = n+1\n",
    "    best_RMSE_list.append(total_RMSE/n)\n",
    "    \n",
    "plt.plot(lamda_list,best_RMSE_list,\".-\")  \n",
    "plt.xlabel('lamda')\n",
    "plt.ylabel('Error')"
   ]
  },
  {
   "cell_type": "code",
   "execution_count": null,
   "metadata": {
    "collapsed": true
   },
   "outputs": [],
   "source": []
  }
 ],
 "metadata": {
  "kernelspec": {
   "display_name": "Python [Root]",
   "language": "python",
   "name": "Python [Root]"
  },
  "language_info": {
   "codemirror_mode": {
    "name": "ipython",
    "version": 2
   },
   "file_extension": ".py",
   "mimetype": "text/x-python",
   "name": "python",
   "nbconvert_exporter": "python",
   "pygments_lexer": "ipython2",
   "version": "2.7.12"
  }
 },
 "nbformat": 4,
 "nbformat_minor": 0
}
